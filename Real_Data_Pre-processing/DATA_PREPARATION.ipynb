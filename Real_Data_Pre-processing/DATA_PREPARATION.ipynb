{
 "cells": [
  {
   "cell_type": "code",
   "execution_count": 1,
   "metadata": {},
   "outputs": [],
   "source": [
    "Train_data = '/Users/ranjanumeshrao/Downloads/income_prediction/agro_zone_cols.csv'"
   ]
  },
  {
   "cell_type": "code",
   "execution_count": 2,
   "metadata": {},
   "outputs": [],
   "source": [
    "import pandas as pd\n",
    "df = pd.read_csv(Train_data)"
   ]
  },
  {
   "cell_type": "code",
   "execution_count": 8,
   "metadata": {},
   "outputs": [
    {
     "name": "stdout",
     "output_type": "stream",
     "text": [
      "Column: K022-Nearest Mandi Name, Data Type: object\n",
      "Column: K022-Ambient temperature (min & max), Data Type: object\n",
      "Column: R022-Ambient temperature (min & max), Data Type: object\n",
      "Column: K021-Ambient temperature (min & max), Data Type: object\n",
      "Column: R021-Ambient temperature (min & max), Data Type: object\n",
      "Column: R020-Ambient temperature (min & max), Data Type: object\n"
     ]
    }
   ],
   "source": [
    "# Get columns with data types other than int and float\n",
    "nnc = df.select_dtypes(exclude=['int', 'float'])\n",
    "\n",
    "# Print column names and their corresponding data types\n",
    "for col, dtype in nnc.dtypes.items():\n",
    "    print(f\"Column: {col}, Data Type: {dtype}\")\n",
    "\n",
    "\n",
    "#['Kharif Seasons  Agro Ecological Sub Zone in 2022', 'Rabi Seasons Agro Ecological Sub Zone in 2022', 'Rabi Seasons Agro Ecological Sub Zone in 2021','Kharif Seasons Agro Ecological Sub Zone in 2021', 'Kharif Seasons Agro Ecological Sub Zone in 2020', 'Rabi Seasons Agro Ecological Sub Zone in 2020']"
   ]
  },
  {
   "cell_type": "code",
   "execution_count": 4,
   "metadata": {},
   "outputs": [
    {
     "name": "stdout",
     "output_type": "stream",
     "text": [
      "\u001b[1m1/1\u001b[0m \u001b[32m━━━━━━━━━━━━━━━━━━━━\u001b[0m\u001b[37m\u001b[0m \u001b[1m0s\u001b[0m 62ms/step\n"
     ]
    }
   ],
   "source": [
    "import pandas as pd\n",
    "import numpy as np\n",
    "import tensorflow as tf\n",
    "from sklearn.preprocessing import LabelEncoder\n",
    "\n",
    "# Convert State names to integer labels\n",
    "label_encoder = LabelEncoder()\n",
    "df['State_ID'] = label_encoder.fit_transform(df['State'])\n",
    "\n",
    "# Define Embedding Layer (Assume 3 embedding dimensions)\n",
    "num_states = len(df['State_ID'].unique())  # Total unique states\n",
    "embedding_dim = 1\n",
    "\n",
    "# Create Embedding Model\n",
    "state_input = tf.keras.Input(shape=(1,), dtype=tf.int32, name=\"State_Input\")\n",
    "state_embedding = tf.keras.layers.Embedding(input_dim=num_states, output_dim=embedding_dim)(state_input)\n",
    "state_embedding = tf.keras.layers.Flatten()(state_embedding)\n",
    "\n",
    "model = tf.keras.Model(inputs=state_input, outputs=state_embedding)\n",
    "\n",
    "# Generate Embeddings for Each Unique State_ID\n",
    "unique_state_ids = np.array(df['State_ID'].unique()).reshape(-1, 1)\n",
    "embedding_values = model.predict(unique_state_ids)\n",
    "\n",
    "# Create a Mapping Dictionary (State_ID → Embedding Vector)\n",
    "embedding_dict = {state_id: embedding for state_id, embedding in zip(df['State_ID'].unique(), embedding_values)}\n"
   ]
  },
  {
   "cell_type": "code",
   "execution_count": 5,
   "metadata": {},
   "outputs": [
    {
     "data": {
      "text/plain": [
       "0       -0.032610\n",
       "1       -0.032610\n",
       "2        0.022126\n",
       "3       -0.032610\n",
       "4        0.023553\n",
       "           ...   \n",
       "53301   -0.025933\n",
       "53302   -0.025933\n",
       "53303   -0.025933\n",
       "53304   -0.025933\n",
       "53305   -0.025933\n",
       "Name: State_emb, Length: 53306, dtype: float32"
      ]
     },
     "execution_count": 5,
     "metadata": {},
     "output_type": "execute_result"
    }
   ],
   "source": [
    "def replace_with_embedding(state_id):\n",
    "    return embedding_dict[state_id]\n",
    "\n",
    "df['State_emb'] = df['State_ID'].apply(lambda x: replace_with_embedding(x)[0])  # Extract scalar value\n",
    "\n",
    "# Drop the original columns\n",
    "df.drop(columns=['State_ID'], inplace=True)\n",
    "\n",
    "# Display updated DataFrame\n",
    "df[\"State_emb\"]\n"
   ]
  },
  {
   "cell_type": "code",
   "execution_count": 8,
   "metadata": {},
   "outputs": [
    {
     "name": "stdout",
     "output_type": "stream",
     "text": [
      "   REGION  SEX  CITY  DISTRICT  VILLAGE  MARITAL_STATUS  Location  \\\n",
      "0       0    1   250       308     4924               0     34002   \n",
      "1       0    1  1727        19        8               0     27662   \n",
      "2       1    1   214       258     3940               0     34002   \n",
      "3       0    1  1566       241     1066               0     34002   \n",
      "4       4    1  2228       221     4667               0     34002   \n",
      "\n",
      "   Address type  Ownership  \n",
      "0             3          3  \n",
      "1             2          0  \n",
      "2             3          3  \n",
      "3             3          3  \n",
      "4             3          3  \n"
     ]
    }
   ],
   "source": [
    "from sklearn.preprocessing import LabelEncoder\n",
    "\n",
    "# Define columns to apply label encoding\n",
    "categorical_columns = ['REGION', 'SEX', 'CITY', 'DISTRICT', 'VILLAGE', 'MARITAL_STATUS', \n",
    "                       'Location', 'Address type', 'Ownership']\n",
    "\n",
    "# Apply label encoding\n",
    "label_encoder = LabelEncoder()\n",
    "\n",
    "for col in categorical_columns:\n",
    "    df[col] = label_encoder.fit_transform(df[col])\n",
    "\n",
    "print(df[categorical_columns].head())  # View the transformed columns\n"
   ]
  },
  {
   "cell_type": "code",
   "execution_count": null,
   "metadata": {},
   "outputs": [],
   "source": [
    "# ['Village category based on socio-economic parameters (Good, Average, Poor)','R022-Village category based on Agri parameters (Good, Average, Poor)','K022-Village category based on socio-economic parameters (Good, Average, Poor)','K022-Village category based on Agri parameters (Good, Average, Poor)']\n",
    "\n",
    "from sklearn.preprocessing import LabelEncoder\n",
    "\n",
    "# List of columns to be label encoded\n",
    "columns_to_encode = [' Village category based on socio-economic parameters (Good, Average, Poor)', \n",
    "                     'R022-Village category based on Agri parameters (Good, Average, Poor)', \n",
    "                     'K022-Village category based on socio-economic parameters (Good, Average, Poor)', \n",
    "                     'K022-Village category based on Agri parameters (Good, Average, Poor)']\n",
    "\n",
    "# Initialize LabelEncoder\n",
    "label_encoder = LabelEncoder()\n",
    "\n",
    "# Apply Label Encoding and shift the encoded values by 1\n",
    "for col in columns_to_encode:\n",
    "    df[col] = label_encoder.fit_transform(df[col]) + 1  # Adding 1 to start from 1\n"
   ]
  },
  {
   "cell_type": "code",
   "execution_count": 21,
   "metadata": {},
   "outputs": [
    {
     "name": "stdout",
     "output_type": "stream",
     "text": [
      "\u001b[1m1666/1666\u001b[0m \u001b[32m━━━━━━━━━━━━━━━━━━━━\u001b[0m\u001b[37m\u001b[0m \u001b[1m0s\u001b[0m 242us/step\n"
     ]
    },
    {
     "name": "stderr",
     "output_type": "stream",
     "text": [
      "/opt/anaconda3/envs/Cattle/lib/python3.10/site-packages/keras/src/layers/core/embedding.py:90: UserWarning: Argument `input_length` is deprecated. Just remove it.\n",
      "  warnings.warn(\n"
     ]
    },
    {
     "name": "stdout",
     "output_type": "stream",
     "text": [
      "\u001b[1m1666/1666\u001b[0m \u001b[32m━━━━━━━━━━━━━━━━━━━━\u001b[0m\u001b[37m\u001b[0m \u001b[1m0s\u001b[0m 242us/step\n"
     ]
    },
    {
     "name": "stderr",
     "output_type": "stream",
     "text": [
      "/opt/anaconda3/envs/Cattle/lib/python3.10/site-packages/keras/src/layers/core/embedding.py:90: UserWarning: Argument `input_length` is deprecated. Just remove it.\n",
      "  warnings.warn(\n"
     ]
    },
    {
     "name": "stdout",
     "output_type": "stream",
     "text": [
      "\u001b[1m1666/1666\u001b[0m \u001b[32m━━━━━━━━━━━━━━━━━━━━\u001b[0m\u001b[37m\u001b[0m \u001b[1m0s\u001b[0m 230us/step\n"
     ]
    },
    {
     "name": "stderr",
     "output_type": "stream",
     "text": [
      "/opt/anaconda3/envs/Cattle/lib/python3.10/site-packages/keras/src/layers/core/embedding.py:90: UserWarning: Argument `input_length` is deprecated. Just remove it.\n",
      "  warnings.warn(\n"
     ]
    },
    {
     "name": "stdout",
     "output_type": "stream",
     "text": [
      "\u001b[1m1666/1666\u001b[0m \u001b[32m━━━━━━━━━━━━━━━━━━━━\u001b[0m\u001b[37m\u001b[0m \u001b[1m0s\u001b[0m 231us/step\n"
     ]
    },
    {
     "name": "stderr",
     "output_type": "stream",
     "text": [
      "/opt/anaconda3/envs/Cattle/lib/python3.10/site-packages/keras/src/layers/core/embedding.py:90: UserWarning: Argument `input_length` is deprecated. Just remove it.\n",
      "  warnings.warn(\n"
     ]
    },
    {
     "name": "stdout",
     "output_type": "stream",
     "text": [
      "\u001b[1m1666/1666\u001b[0m \u001b[32m━━━━━━━━━━━━━━━━━━━━\u001b[0m\u001b[37m\u001b[0m \u001b[1m0s\u001b[0m 230us/step\n"
     ]
    },
    {
     "name": "stderr",
     "output_type": "stream",
     "text": [
      "/opt/anaconda3/envs/Cattle/lib/python3.10/site-packages/keras/src/layers/core/embedding.py:90: UserWarning: Argument `input_length` is deprecated. Just remove it.\n",
      "  warnings.warn(\n"
     ]
    },
    {
     "name": "stdout",
     "output_type": "stream",
     "text": [
      "\u001b[1m1666/1666\u001b[0m \u001b[32m━━━━━━━━━━━━━━━━━━━━\u001b[0m\u001b[37m\u001b[0m \u001b[1m0s\u001b[0m 231us/step\n",
      "   Unnamed: 0.1  Unnamed: 0          FarmerID  REGION  SEX  CITY  Zipcode  \\\n",
      "0             0           0  1002818465057450       0    1   250   464668   \n",
      "1             1           1  1003667148159900       0    1  1727   473443   \n",
      "2             2           2  1012300674433870       1    1   214   848125   \n",
      "3             3           3  1013472263587380       0    1  1566   458556   \n",
      "4             4           4  1019525480704050       4    1  2228   413527   \n",
      "\n",
      "   DISTRICT  VILLAGE  Address type  ...  \\\n",
      "0       308     4924             3  ...   \n",
      "1        19        8             2  ...   \n",
      "2       258     3940             3  ...   \n",
      "3       241     1066             3  ...   \n",
      "4       221     4667             3  ...   \n",
      "\n",
      "    Land Holding Index source (Total Agri Area/ no of people)  \\\n",
      "0                                           0.773129            \n",
      "1                                           0.199800            \n",
      "2                                           0.454140            \n",
      "3                                           0.657040            \n",
      "4                                           0.235615            \n",
      "\n",
      "    Road density (Km/ SqKm)  Target_Variable/Total Income  State_emb  \\\n",
      "0                      0.00                       1360000  -0.032610   \n",
      "1                      0.00                        850000  -0.032610   \n",
      "2                      0.00                        807200   0.022126   \n",
      "3                      0.00                        500000  -0.032610   \n",
      "4                      2.49                        558000   0.023553   \n",
      "\n",
      "   Kharif Seasons  Type of soil in 2022_emb_1  \\\n",
      "0                                    2.127195   \n",
      "1                                    2.127195   \n",
      "2                                    2.271048   \n",
      "3                                    2.127195   \n",
      "4                                    2.042056   \n",
      "\n",
      "   Rabi Seasons Type of soil in 2022_emb_1  \\\n",
      "0                                 2.121159   \n",
      "1                                 2.121159   \n",
      "2                                 2.250067   \n",
      "3                                 2.121159   \n",
      "4                                 2.083335   \n",
      "\n",
      "  Rabi Seasons Type of soil in 2021_emb_1  \\\n",
      "0                                2.116005   \n",
      "1                                2.116005   \n",
      "2                                2.277379   \n",
      "3                                2.116005   \n",
      "4                                2.069690   \n",
      "\n",
      "   Kharif Seasons Type of soil in 2021_emb_1  \\\n",
      "0                                   2.132429   \n",
      "1                                   2.132429   \n",
      "2                                   2.271327   \n",
      "3                                   2.132429   \n",
      "4                                   2.080892   \n",
      "\n",
      "   Kharif Seasons Type of soil in 2020_emb_1  \\\n",
      "0                                   2.111751   \n",
      "1                                   2.111751   \n",
      "2                                   2.268710   \n",
      "3                                   2.111751   \n",
      "4                                   2.023177   \n",
      "\n",
      "   Rabi Seasons Type of soil in 2020_emb_1  \n",
      "0                                 2.127660  \n",
      "1                                 2.127660  \n",
      "2                                 2.265319  \n",
      "3                                 2.127660  \n",
      "4                                 2.104038  \n",
      "\n",
      "[5 rows x 105 columns]\n"
     ]
    }
   ],
   "source": [
    "import tensorflow as tf\n",
    "from tensorflow.keras.layers import Embedding, Input\n",
    "from tensorflow.keras.models import Model\n",
    "import pandas as pd\n",
    "\n",
    "# Example dataframe (df) and soil columns\n",
    "soil_columns = ['Kharif Seasons  Type of soil in 2022', \n",
    "                'Rabi Seasons Type of soil in 2022', \n",
    "                'Rabi Seasons Type of soil in 2021', \n",
    "                'Kharif Seasons Type of soil in 2021', \n",
    "                'Kharif Seasons Type of soil in 2020', \n",
    "                'Rabi Seasons Type of soil in 2020']\n",
    "\n",
    "# Function to apply embedding encoding\n",
    "def apply_embedding_encoding(df, columns, embedding_dim=1):\n",
    "    for col in columns:\n",
    "        # Apply StringLookup to convert soil type to integers\n",
    "        label_encoder = tf.keras.layers.StringLookup(output_mode='int', mask_token=None)\n",
    "        label_encoder.adapt(df[col])  # Fit the encoder to the column\n",
    "        \n",
    "        # Encoding soil types to integer labels\n",
    "        df[col + '_encoded'] = label_encoder(df[col])\n",
    "        \n",
    "        # Create an embedding layer for this column\n",
    "        input_layer = Input(shape=(1,))\n",
    "        embedding_layer = Embedding(input_dim=len(label_encoder.get_vocabulary()), \n",
    "                                    output_dim=embedding_dim, \n",
    "                                    input_length=1, \n",
    "                                    trainable=True)(input_layer)\n",
    "        \n",
    "        # Build a simple model to train the embedding\n",
    "        model = Model(inputs=input_layer, outputs=embedding_layer)\n",
    "        \n",
    "        # Train the model briefly on this data\n",
    "        model.compile(optimizer='adam', loss='mse')\n",
    "        model.fit(df[col + '_encoded'].values, df[col + '_encoded'].values, epochs=1, batch_size=64, verbose=0)\n",
    "        \n",
    "        # Extract the embeddings from the trained model\n",
    "        embeddings = model.predict(df[col + '_encoded'].values)\n",
    "        \n",
    "        # Convert the embeddings into a DataFrame\n",
    "        embedding_df = pd.DataFrame(embeddings.squeeze(), columns=[f\"{col}_emb_{i+1}\" for i in range(embedding_dim)])\n",
    "        \n",
    "        # Concatenate the embeddings to the original dataframe\n",
    "        df = pd.concat([df, embedding_df], axis=1)\n",
    "        \n",
    "        # Optionally, drop the original columns\n",
    "        df.drop(columns=[col, col + '_encoded'], inplace=True)\n",
    "    \n",
    "    return df\n",
    "\n",
    "# Example usage with embedding_dim=1\n",
    "df_encoded = apply_embedding_encoding(df, soil_columns, embedding_dim=1)\n",
    "\n",
    "# Check the result\n",
    "print(df_encoded.head())"
   ]
  },
  {
   "cell_type": "code",
   "execution_count": 4,
   "metadata": {},
   "outputs": [
    {
     "name": "stdout",
     "output_type": "stream",
     "text": [
      "\n",
      "Generated Label Mapping for Kharif Seasons Type of water bodies in hectares 2020: {' ': 0, \"'\": 1, ',': 2, 'N': 3, '[': 4, ']': 5, 'a': 6, 'b': 7, 'd': 8, 'e': 9, 'i': 10, 'k': 11, 'l': 12, 'n': 13, 'o': 14, 'r': 15, 's': 16, 't': 17, 'v': 18, 'w': 19}\n",
      "\n",
      "Generated Label Mapping for Rabi Seasons Type of water bodies in hectares 2020: {' ': 0, \"'\": 1, ',': 2, 'N': 3, '[': 4, ']': 5, 'a': 6, 'b': 7, 'd': 8, 'e': 9, 'i': 10, 'k': 11, 'l': 12, 'n': 13, 'o': 14, 'r': 15, 's': 16, 't': 17, 'v': 18, 'w': 19}\n"
     ]
    },
    {
     "name": "stderr",
     "output_type": "stream",
     "text": [
      "/opt/anaconda3/envs/Cattle/lib/python3.10/site-packages/keras/src/layers/core/embedding.py:90: UserWarning: Argument `input_length` is deprecated. Just remove it.\n",
      "  warnings.warn(\n",
      "/opt/anaconda3/envs/Cattle/lib/python3.10/site-packages/keras/src/layers/core/embedding.py:90: UserWarning: Argument `input_length` is deprecated. Just remove it.\n",
      "  warnings.warn(\n"
     ]
    },
    {
     "name": "stdout",
     "output_type": "stream",
     "text": [
      "\n",
      "Final Data with Embeddings:\n",
      "    Unnamed: 0.5  Unnamed: 0.4  Unnamed: 0.3  Unnamed: 0.2  Unnamed: 0.1  \\\n",
      "0             0             0             0             0             0   \n",
      "1             1             1             1             1             1   \n",
      "2             2             2             2             2             2   \n",
      "3             3             3             3             3             3   \n",
      "4             4             4             4             4             4   \n",
      "\n",
      "   Unnamed: 0          FarmerID  REGION  SEX  CITY  ...  State_emb  \\\n",
      "0           0  1002818465057450       0    1   250  ...  -0.032610   \n",
      "1           1  1003667148159900       0    1  1727  ...  -0.032610   \n",
      "2           2  1012300674433870       1    1   214  ...   0.022126   \n",
      "3           3  1013472263587380       0    1  1566  ...  -0.032610   \n",
      "4           4  1019525480704050       4    1  2228  ...   0.023553   \n",
      "\n",
      "   Kharif Seasons  Type of soil in 2022_emb_1  \\\n",
      "0                                    2.127195   \n",
      "1                                    2.127195   \n",
      "2                                    2.271048   \n",
      "3                                    2.127195   \n",
      "4                                    2.042056   \n",
      "\n",
      "   Rabi Seasons Type of soil in 2022_emb_1  \\\n",
      "0                                 2.121159   \n",
      "1                                 2.121159   \n",
      "2                                 2.250067   \n",
      "3                                 2.121159   \n",
      "4                                 2.083335   \n",
      "\n",
      "   Rabi Seasons Type of soil in 2021_emb_1  \\\n",
      "0                                 2.116005   \n",
      "1                                 2.116005   \n",
      "2                                 2.277379   \n",
      "3                                 2.116005   \n",
      "4                                 2.069690   \n",
      "\n",
      "   Kharif Seasons Type of soil in 2021_emb_1  \\\n",
      "0                                   2.132429   \n",
      "1                                   2.132429   \n",
      "2                                   2.271326   \n",
      "3                                   2.132429   \n",
      "4                                   2.080892   \n",
      "\n",
      "   Kharif Seasons Type of soil in 2020_emb_1  \\\n",
      "0                                   2.111751   \n",
      "1                                   2.111751   \n",
      "2                                   2.268710   \n",
      "3                                   2.111751   \n",
      "4                                   2.023177   \n",
      "\n",
      "   Rabi Seasons Type of soil in 2020_emb_1  \\\n",
      "0                                 2.127660   \n",
      "1                                 2.127660   \n",
      "2                                 2.265319   \n",
      "3                                 2.127660   \n",
      "4                                 2.104039   \n",
      "\n",
      "   Kharif_Seasons_Type_of_water_bodies_in_hectares_2022_emb  \\\n",
      "0                                           0.001959          \n",
      "1                                          -0.016782          \n",
      "2                                           0.001959          \n",
      "3                                           0.004651          \n",
      "4                                          -0.016782          \n",
      "\n",
      "   Kharif Seasons Type of water bodies in hectares 2020_emb  \\\n",
      "0                                          -0.009492          \n",
      "1                                          -0.017903          \n",
      "2                                          -0.009492          \n",
      "3                                          -0.003618          \n",
      "4                                          -0.017903          \n",
      "\n",
      "   Rabi Seasons Type of water bodies in hectares 2020_emb  \n",
      "0                                           0.010720       \n",
      "1                                           0.022496       \n",
      "2                                           0.010720       \n",
      "3                                           0.023052       \n",
      "4                                           0.022496       \n",
      "\n",
      "[5 rows x 106 columns]\n",
      "\n",
      "Data Types:\n",
      " Unnamed: 0.5                                                  int64\n",
      "Unnamed: 0.4                                                  int64\n",
      "Unnamed: 0.3                                                  int64\n",
      "Unnamed: 0.2                                                  int64\n",
      "Unnamed: 0.1                                                  int64\n",
      "                                                             ...   \n",
      "Kharif Seasons Type of soil in 2020_emb_1                   float64\n",
      "Rabi Seasons Type of soil in 2020_emb_1                     float64\n",
      "Kharif_Seasons_Type_of_water_bodies_in_hectares_2022_emb    float64\n",
      "Kharif Seasons Type of water bodies in hectares 2020_emb    float32\n",
      "Rabi Seasons Type of water bodies in hectares 2020_emb      float32\n",
      "Length: 106, dtype: object\n"
     ]
    }
   ],
   "source": [
    "# ['Rabi Seasons Type of water bodies in hectares 2022', 'Rabi Seasons Type of water bodies in hectares 2021', 'Kharif Seasons Type of water bodies in hectares 2021', 'Kharif Seasons Type of water bodies in hectares 2020', 'Rabi Seasons Type of water bodies in hectares 2020']\n",
    "\n",
    "import pandas as pd\n",
    "import numpy as np\n",
    "from tensorflow.keras.layers import Embedding\n",
    "import tensorflow as tf\n",
    "\n",
    "# Columns to process\n",
    "target_columns = [\n",
    "    'Kharif Seasons Type of water bodies in hectares 2020', \n",
    "    'Rabi Seasons Type of water bodies in hectares 2020'\n",
    "]\n",
    "\n",
    "# Dictionary to store label mappings for each column\n",
    "label_mappings = {}\n",
    "\n",
    "for col in target_columns:\n",
    "    # Step 1: Extract unique labels dynamically\n",
    "    unique_labels = set()\n",
    "    for val in df[col]:\n",
    "        unique_labels.update(val)\n",
    "\n",
    "    # Create a label mapping dynamically\n",
    "    label_mapping = {label: idx for idx, label in enumerate(sorted(unique_labels))}\n",
    "    label_mappings[col] = label_mapping  # Store mapping for later use\n",
    "    print(f\"\\nGenerated Label Mapping for {col}:\", label_mapping)\n",
    "\n",
    "    # Step 2: Encode labels using the dynamically generated mapping\n",
    "    df[f'{col}_encoded'] = df[col].apply(lambda value: np.array([label_mapping[label] for label in value], dtype=np.int32))\n",
    "\n",
    "# Step 3: Apply embedding encoding\n",
    "def apply_embedding_encoding(df, col, embedding_dim=1):\n",
    "    max_value = max([max(values) for values in df[f'{col}_encoded']]) + 1\n",
    "    embedding_layer = Embedding(input_dim=max_value, output_dim=embedding_dim, input_length=1, trainable=True)\n",
    "\n",
    "    embedded_values = []\n",
    "    for row in df[f'{col}_encoded']:\n",
    "        row_embedding = np.mean(embedding_layer(np.array(row, dtype=np.int32)).numpy(), axis=0)  # Ensure int32 input\n",
    "        embedded_values.append(row_embedding.astype(np.float32))  # Ensure float32 output\n",
    "\n",
    "    # Convert list of arrays into a proper numerical format\n",
    "    df[f'{col}_emb'] = np.vstack(embedded_values)\n",
    "\n",
    "    return df\n",
    "\n",
    "# Apply embedding encoding for each target column\n",
    "for col in target_columns:\n",
    "    df = apply_embedding_encoding(df, col, embedding_dim=1)\n",
    "    df.drop(columns=[f'{col}_encoded', col], inplace=True)  # Drop unnecessary columns\n",
    "\n",
    "# Check the final DataFrame\n",
    "print(\"\\nFinal Data with Embeddings:\\n\", df.head())\n",
    "print(\"\\nData Types:\\n\", df.dtypes)"
   ]
  },
  {
   "cell_type": "code",
   "execution_count": 4,
   "metadata": {},
   "outputs": [
    {
     "name": "stderr",
     "output_type": "stream",
     "text": [
      "/opt/anaconda3/envs/Cattle/lib/python3.10/site-packages/keras/src/layers/core/embedding.py:90: UserWarning: Argument `input_length` is deprecated. Just remove it.\n",
      "  warnings.warn(\n"
     ]
    },
    {
     "name": "stdout",
     "output_type": "stream",
     "text": [
      "\u001b[1m833/833\u001b[0m \u001b[32m━━━━━━━━━━━━━━━━━━━━\u001b[0m\u001b[37m\u001b[0m \u001b[1m0s\u001b[0m 247us/step\n"
     ]
    },
    {
     "name": "stderr",
     "output_type": "stream",
     "text": [
      "/opt/anaconda3/envs/Cattle/lib/python3.10/site-packages/keras/src/layers/core/embedding.py:90: UserWarning: Argument `input_length` is deprecated. Just remove it.\n",
      "  warnings.warn(\n"
     ]
    },
    {
     "name": "stdout",
     "output_type": "stream",
     "text": [
      "\u001b[1m833/833\u001b[0m \u001b[32m━━━━━━━━━━━━━━━━━━━━\u001b[0m\u001b[37m\u001b[0m \u001b[1m0s\u001b[0m 245us/step\n"
     ]
    },
    {
     "name": "stderr",
     "output_type": "stream",
     "text": [
      "/opt/anaconda3/envs/Cattle/lib/python3.10/site-packages/keras/src/layers/core/embedding.py:90: UserWarning: Argument `input_length` is deprecated. Just remove it.\n",
      "  warnings.warn(\n"
     ]
    },
    {
     "name": "stdout",
     "output_type": "stream",
     "text": [
      "\u001b[1m833/833\u001b[0m \u001b[32m━━━━━━━━━━━━━━━━━━━━\u001b[0m\u001b[37m\u001b[0m \u001b[1m0s\u001b[0m 246us/step\n"
     ]
    },
    {
     "name": "stderr",
     "output_type": "stream",
     "text": [
      "/opt/anaconda3/envs/Cattle/lib/python3.10/site-packages/keras/src/layers/core/embedding.py:90: UserWarning: Argument `input_length` is deprecated. Just remove it.\n",
      "  warnings.warn(\n"
     ]
    },
    {
     "name": "stdout",
     "output_type": "stream",
     "text": [
      "\u001b[1m833/833\u001b[0m \u001b[32m━━━━━━━━━━━━━━━━━━━━\u001b[0m\u001b[37m\u001b[0m \u001b[1m0s\u001b[0m 263us/step\n"
     ]
    },
    {
     "name": "stderr",
     "output_type": "stream",
     "text": [
      "/opt/anaconda3/envs/Cattle/lib/python3.10/site-packages/keras/src/layers/core/embedding.py:90: UserWarning: Argument `input_length` is deprecated. Just remove it.\n",
      "  warnings.warn(\n"
     ]
    },
    {
     "name": "stdout",
     "output_type": "stream",
     "text": [
      "\u001b[1m833/833\u001b[0m \u001b[32m━━━━━━━━━━━━━━━━━━━━\u001b[0m\u001b[37m\u001b[0m \u001b[1m0s\u001b[0m 240us/step\n"
     ]
    },
    {
     "name": "stderr",
     "output_type": "stream",
     "text": [
      "/opt/anaconda3/envs/Cattle/lib/python3.10/site-packages/keras/src/layers/core/embedding.py:90: UserWarning: Argument `input_length` is deprecated. Just remove it.\n",
      "  warnings.warn(\n"
     ]
    },
    {
     "name": "stdout",
     "output_type": "stream",
     "text": [
      "\u001b[1m833/833\u001b[0m \u001b[32m━━━━━━━━━━━━━━━━━━━━\u001b[0m\u001b[37m\u001b[0m \u001b[1m0s\u001b[0m 238us/step\n",
      "   Unnamed: 0.6  Unnamed: 0.5  Unnamed: 0.4  Unnamed: 0.3  Unnamed: 0.2  \\\n",
      "0             0             0             0             0             0   \n",
      "1             1             1             1             1             1   \n",
      "2             2             2             2             2             2   \n",
      "3             3             3             3             3             3   \n",
      "4             4             4             4             4             4   \n",
      "\n",
      "   Unnamed: 0.1  Unnamed: 0          FarmerID  REGION  SEX  ...  \\\n",
      "0             0           0  1002818465057450       0    1  ...   \n",
      "1             1           1  1003667148159900       0    1  ...   \n",
      "2             2           2  1012300674433870       1    1  ...   \n",
      "3             3           3  1013472263587380       0    1  ...   \n",
      "4             4           4  1019525480704050       4    1  ...   \n",
      "\n",
      "   Kharif Seasons  Agro Ecological Sub Zone in 2022_embedding  \\\n",
      "0                                           1.000000            \n",
      "1                                           1.000000            \n",
      "2                                           2.000000            \n",
      "3                                          -0.002696            \n",
      "4                                           2.999999            \n",
      "\n",
      "   Rabi Seasons Agro Ecological Sub Zone in 2022_encoded  \\\n",
      "0                                                  1       \n",
      "1                                                  1       \n",
      "2                                                  2       \n",
      "3                                                  0       \n",
      "4                                                  3       \n",
      "\n",
      "   Rabi Seasons Agro Ecological Sub Zone in 2022_embedding  \\\n",
      "0                                       1.000000e+00         \n",
      "1                                       1.000000e+00         \n",
      "2                                       2.000000e+00         \n",
      "3                                      -6.018315e-35         \n",
      "4                                       2.999999e+00         \n",
      "\n",
      "   Rabi Seasons Agro Ecological Sub Zone in 2021_encoded  \\\n",
      "0                                                  1       \n",
      "1                                                  1       \n",
      "2                                                  2       \n",
      "3                                                  0       \n",
      "4                                                  3       \n",
      "\n",
      "   Rabi Seasons Agro Ecological Sub Zone in 2021_embedding  \\\n",
      "0                                       1.000000e+00         \n",
      "1                                       1.000000e+00         \n",
      "2                                       2.000000e+00         \n",
      "3                                       4.225347e-35         \n",
      "4                                       2.999999e+00         \n",
      "\n",
      "   Kharif Seasons Agro Ecological Sub Zone in 2021_encoded  \\\n",
      "0                                                  1         \n",
      "1                                                  1         \n",
      "2                                                  2         \n",
      "3                                                  0         \n",
      "4                                                  3         \n",
      "\n",
      "   Kharif Seasons Agro Ecological Sub Zone in 2021_embedding  \\\n",
      "0                                       1.000000e+00           \n",
      "1                                       1.000000e+00           \n",
      "2                                       2.000000e+00           \n",
      "3                                      -3.995684e-35           \n",
      "4                                       2.999999e+00           \n",
      "\n",
      "   Kharif Seasons Agro Ecological Sub Zone in 2020_encoded  \\\n",
      "0                                                  1         \n",
      "1                                                  1         \n",
      "2                                                  2         \n",
      "3                                                  0         \n",
      "4                                                  3         \n",
      "\n",
      "   Kharif Seasons Agro Ecological Sub Zone in 2020_embedding  \\\n",
      "0                                       1.000000e+00           \n",
      "1                                       1.000000e+00           \n",
      "2                                       2.000000e+00           \n",
      "3                                       8.891128e-36           \n",
      "4                                       2.999998e+00           \n",
      "\n",
      "   Rabi Seasons Agro Ecological Sub Zone in 2020_embedding  \n",
      "0                                       1.000000e+00        \n",
      "1                                       1.000000e+00        \n",
      "2                                       2.000000e+00        \n",
      "3                                       1.711438e-35        \n",
      "4                                       2.999999e+00        \n",
      "\n",
      "[5 rows x 117 columns]\n",
      "\n",
      "Data Types:\n",
      " Unnamed: 0.6                                                   int64\n",
      "Unnamed: 0.5                                                   int64\n",
      "Unnamed: 0.4                                                   int64\n",
      "Unnamed: 0.3                                                   int64\n",
      "Unnamed: 0.2                                                   int64\n",
      "                                                              ...   \n",
      "Kharif Seasons Agro Ecological Sub Zone in 2021_encoded        int32\n",
      "Kharif Seasons Agro Ecological Sub Zone in 2021_embedding    float32\n",
      "Kharif Seasons Agro Ecological Sub Zone in 2020_encoded        int32\n",
      "Kharif Seasons Agro Ecological Sub Zone in 2020_embedding    float32\n",
      "Rabi Seasons Agro Ecological Sub Zone in 2020_embedding      float32\n",
      "Length: 117, dtype: object\n"
     ]
    }
   ],
   "source": [
    "import pandas as pd\n",
    "import numpy as np\n",
    "import tensorflow as tf\n",
    "from tensorflow.keras import layers, models\n",
    "\n",
    "agro_zone_cols = [\n",
    "    'Kharif Seasons  Agro Ecological Sub Zone in 2022',\n",
    "    'Rabi Seasons Agro Ecological Sub Zone in 2022',\n",
    "    'Rabi Seasons Agro Ecological Sub Zone in 2021',\n",
    "    'Kharif Seasons Agro Ecological Sub Zone in 2021',\n",
    "    'Kharif Seasons Agro Ecological Sub Zone in 2020', \n",
    "    'Rabi Seasons Agro Ecological Sub Zone in 2020'\n",
    "]\n",
    "\n",
    "# Function to apply model-based embedding encoding to all specified columns\n",
    "def apply_model_based_embedding_encoding(df, columns, embedding_dim=1):\n",
    "    for col in columns:\n",
    "        # Step 1: Convert the categorical values to numeric labels\n",
    "        unique_labels = df[col].unique()\n",
    "        label_mapping = {label: idx for idx, label in enumerate(sorted(unique_labels))}\n",
    "        df[col + '_encoded'] = df[col].map(label_mapping).astype(np.int32)\n",
    "\n",
    "        # Step 2: Define and train a simple neural network model for embeddings\n",
    "        inputs = layers.Input(shape=(1,))\n",
    "        embedding_layer = layers.Embedding(input_dim=len(unique_labels), output_dim=embedding_dim, input_length=1, trainable=True)(inputs)\n",
    "        model = models.Model(inputs, embedding_layer)\n",
    "\n",
    "        # Step 3: Compile and train the model\n",
    "        model.compile(optimizer='adam', loss='mse')\n",
    "        # For training, the model uses its own encoded column as target (for simplicity)\n",
    "        # You can use another column or some other target as per your use case\n",
    "        model.fit(df[col + '_encoded'], df[col + '_encoded'], epochs=5, verbose=0)\n",
    "\n",
    "        # Step 4: Generate embeddings for each label using the trained model\n",
    "        embeddings = model.predict(df[col + '_encoded'], batch_size=64)\n",
    "        df[col + '_embedding'] = embeddings.flatten()\n",
    "\n",
    "    return df\n",
    "\n",
    "# Apply model-based embedding encoding\n",
    "df_encoded = apply_model_based_embedding_encoding(df, agro_zone_cols, embedding_dim=1)\n",
    "df_encoded.drop(columns=[col, col + '_encoded'], inplace=True)\n",
    "\n",
    "\n",
    "print(df_encoded.head())\n",
    "print(\"\\nData Types:\\n\", df_encoded.dtypes)"
   ]
  },
  {
   "cell_type": "code",
   "execution_count": 10,
   "metadata": {},
   "outputs": [],
   "source": [
    "df.to_csv(\"/Users/ranjanumeshrao/Downloads/income_prediction/agro_zone_cols_final.csv\")"
   ]
  },
  {
   "cell_type": "code",
   "execution_count": null,
   "metadata": {},
   "outputs": [],
   "source": []
  }
 ],
 "metadata": {
  "kernelspec": {
   "display_name": "Cattle",
   "language": "python",
   "name": "python3"
  },
  "language_info": {
   "codemirror_mode": {
    "name": "ipython",
    "version": 3
   },
   "file_extension": ".py",
   "mimetype": "text/x-python",
   "name": "python",
   "nbconvert_exporter": "python",
   "pygments_lexer": "ipython3",
   "version": "3.10.16"
  }
 },
 "nbformat": 4,
 "nbformat_minor": 2
}
